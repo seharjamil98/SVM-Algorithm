{
  "nbformat": 4,
  "nbformat_minor": 0,
  "metadata": {
    "colab": {
      "provenance": []
    },
    "kernelspec": {
      "display_name": "Python 3",
      "name": "python3"
    }
  },
  "cells": [
    {
      "cell_type": "code",
      "metadata": {
        "id": "8uakISsTIopc"
      },
      "source": [
        "from sklearn.svm import SVC\n",
        "import pandas as pd\n",
        "from sklearn.model_selection import train_test_split\n",
        "from sklearn.metrics import classification_report, accuracy_score"
      ],
      "execution_count": 1,
      "outputs": []
    },
    {
      "cell_type": "code",
      "metadata": {
        "id": "rqITgZfeIxxU"
      },
      "source": [
        "df = pd.read_csv('No-show-Issue-Comma-300k.csv')\n",
        "df = df.fillna(0)"
      ],
      "execution_count": 2,
      "outputs": []
    },
    {
      "cell_type": "code",
      "metadata": {
        "id": "2Zs7SJbuBzS4"
      },
      "source": [
        "df.Gender.replace(('F', 'M'),('1', '0'), inplace=True)"
      ],
      "execution_count": 3,
      "outputs": []
    },
    {
      "cell_type": "code",
      "metadata": {
        "id": "Sfo_c9BtB1t0"
      },
      "source": [
        "df.Status.replace(('Show-Up', 'No-Show'),('1', '0'), inplace=True)"
      ],
      "execution_count": 4,
      "outputs": []
    },
    {
      "cell_type": "code",
      "metadata": {
        "id": "92wRxtnkB9ah"
      },
      "source": [
        "df.DayOfTheWeek.replace(('Monday', 'Tuesday', 'Wednesday', 'Thursday', 'Friday', 'Saturday', 'Sunday'),('0', '1', '2', '3', '4', '5', '6'), inplace=True)"
      ],
      "execution_count": 5,
      "outputs": []
    },
    {
      "cell_type": "code",
      "metadata": {
        "id": "cGlWFD3mWFNg"
      },
      "source": [
        "del df['ApointmentData']\n",
        "del df['AppointmentRegistration']"
      ],
      "execution_count": 6,
      "outputs": []
    },
    {
      "cell_type": "code",
      "metadata": {
        "id": "UaQhqWBPCCW0"
      },
      "source": [
        "X = df[list(df.columns)[2:]]\n",
        "Y = df['AwaitingTime']"
      ],
      "execution_count": 7,
      "outputs": []
    },
    {
      "cell_type": "code",
      "metadata": {
        "id": "-1LCrZJDKE1-"
      },
      "source": [
        "X_train, X_test, Y_train, Y_test = train_test_split(X, Y, test_size=0.20,random_state=46)"
      ],
      "execution_count": 8,
      "outputs": []
    },
    {
      "cell_type": "code",
      "metadata": {
        "id": "osEzPXgYKKE-"
      },
      "source": [
        "regressor=SVC(C=1.0, kernel=\"linear\",gamma=\"auto\")"
      ],
      "execution_count": 9,
      "outputs": []
    },
    {
      "cell_type": "code",
      "metadata": {
        "colab": {
          "base_uri": "https://localhost:8080/",
          "height": 75
        },
        "id": "KheG1t6FKOUs",
        "outputId": "78523ba4-8d0f-49b1-b13f-ad067f5c8648"
      },
      "source": [
        "regressor.fit(X_train,Y_train)"
      ],
      "execution_count": 10,
      "outputs": [
        {
          "output_type": "execute_result",
          "data": {
            "text/plain": [
              "SVC(gamma='auto', kernel='linear')"
            ],
            "text/html": [
              "<style>#sk-container-id-1 {color: black;background-color: white;}#sk-container-id-1 pre{padding: 0;}#sk-container-id-1 div.sk-toggleable {background-color: white;}#sk-container-id-1 label.sk-toggleable__label {cursor: pointer;display: block;width: 100%;margin-bottom: 0;padding: 0.3em;box-sizing: border-box;text-align: center;}#sk-container-id-1 label.sk-toggleable__label-arrow:before {content: \"▸\";float: left;margin-right: 0.25em;color: #696969;}#sk-container-id-1 label.sk-toggleable__label-arrow:hover:before {color: black;}#sk-container-id-1 div.sk-estimator:hover label.sk-toggleable__label-arrow:before {color: black;}#sk-container-id-1 div.sk-toggleable__content {max-height: 0;max-width: 0;overflow: hidden;text-align: left;background-color: #f0f8ff;}#sk-container-id-1 div.sk-toggleable__content pre {margin: 0.2em;color: black;border-radius: 0.25em;background-color: #f0f8ff;}#sk-container-id-1 input.sk-toggleable__control:checked~div.sk-toggleable__content {max-height: 200px;max-width: 100%;overflow: auto;}#sk-container-id-1 input.sk-toggleable__control:checked~label.sk-toggleable__label-arrow:before {content: \"▾\";}#sk-container-id-1 div.sk-estimator input.sk-toggleable__control:checked~label.sk-toggleable__label {background-color: #d4ebff;}#sk-container-id-1 div.sk-label input.sk-toggleable__control:checked~label.sk-toggleable__label {background-color: #d4ebff;}#sk-container-id-1 input.sk-hidden--visually {border: 0;clip: rect(1px 1px 1px 1px);clip: rect(1px, 1px, 1px, 1px);height: 1px;margin: -1px;overflow: hidden;padding: 0;position: absolute;width: 1px;}#sk-container-id-1 div.sk-estimator {font-family: monospace;background-color: #f0f8ff;border: 1px dotted black;border-radius: 0.25em;box-sizing: border-box;margin-bottom: 0.5em;}#sk-container-id-1 div.sk-estimator:hover {background-color: #d4ebff;}#sk-container-id-1 div.sk-parallel-item::after {content: \"\";width: 100%;border-bottom: 1px solid gray;flex-grow: 1;}#sk-container-id-1 div.sk-label:hover label.sk-toggleable__label {background-color: #d4ebff;}#sk-container-id-1 div.sk-serial::before {content: \"\";position: absolute;border-left: 1px solid gray;box-sizing: border-box;top: 0;bottom: 0;left: 50%;z-index: 0;}#sk-container-id-1 div.sk-serial {display: flex;flex-direction: column;align-items: center;background-color: white;padding-right: 0.2em;padding-left: 0.2em;position: relative;}#sk-container-id-1 div.sk-item {position: relative;z-index: 1;}#sk-container-id-1 div.sk-parallel {display: flex;align-items: stretch;justify-content: center;background-color: white;position: relative;}#sk-container-id-1 div.sk-item::before, #sk-container-id-1 div.sk-parallel-item::before {content: \"\";position: absolute;border-left: 1px solid gray;box-sizing: border-box;top: 0;bottom: 0;left: 50%;z-index: -1;}#sk-container-id-1 div.sk-parallel-item {display: flex;flex-direction: column;z-index: 1;position: relative;background-color: white;}#sk-container-id-1 div.sk-parallel-item:first-child::after {align-self: flex-end;width: 50%;}#sk-container-id-1 div.sk-parallel-item:last-child::after {align-self: flex-start;width: 50%;}#sk-container-id-1 div.sk-parallel-item:only-child::after {width: 0;}#sk-container-id-1 div.sk-dashed-wrapped {border: 1px dashed gray;margin: 0 0.4em 0.5em 0.4em;box-sizing: border-box;padding-bottom: 0.4em;background-color: white;}#sk-container-id-1 div.sk-label label {font-family: monospace;font-weight: bold;display: inline-block;line-height: 1.2em;}#sk-container-id-1 div.sk-label-container {text-align: center;}#sk-container-id-1 div.sk-container {/* jupyter's `normalize.less` sets `[hidden] { display: none; }` but bootstrap.min.css set `[hidden] { display: none !important; }` so we also need the `!important` here to be able to override the default hidden behavior on the sphinx rendered scikit-learn.org. See: https://github.com/scikit-learn/scikit-learn/issues/21755 */display: inline-block !important;position: relative;}#sk-container-id-1 div.sk-text-repr-fallback {display: none;}</style><div id=\"sk-container-id-1\" class=\"sk-top-container\"><div class=\"sk-text-repr-fallback\"><pre>SVC(gamma=&#x27;auto&#x27;, kernel=&#x27;linear&#x27;)</pre><b>In a Jupyter environment, please rerun this cell to show the HTML representation or trust the notebook. <br />On GitHub, the HTML representation is unable to render, please try loading this page with nbviewer.org.</b></div><div class=\"sk-container\" hidden><div class=\"sk-item\"><div class=\"sk-estimator sk-toggleable\"><input class=\"sk-toggleable__control sk-hidden--visually\" id=\"sk-estimator-id-1\" type=\"checkbox\" checked><label for=\"sk-estimator-id-1\" class=\"sk-toggleable__label sk-toggleable__label-arrow\">SVC</label><div class=\"sk-toggleable__content\"><pre>SVC(gamma=&#x27;auto&#x27;, kernel=&#x27;linear&#x27;)</pre></div></div></div></div></div>"
            ]
          },
          "metadata": {},
          "execution_count": 10
        }
      ]
    },
    {
      "cell_type": "code",
      "metadata": {
        "id": "STojJ1pqK_aX"
      },
      "source": [
        "y_prediction = regressor.predict(X_test)"
      ],
      "execution_count": 11,
      "outputs": []
    },
    {
      "cell_type": "code",
      "metadata": {
        "colab": {
          "base_uri": "https://localhost:8080/"
        },
        "id": "dmcR_GLgm791",
        "outputId": "7ddb724a-6a0e-4a05-d95b-4b528b569844"
      },
      "source": [
        "print(y_prediction)\n",
        "print(regressor.fit(X_test, Y_test))\n",
        "print(accuracy_score(y_prediction, Y_test))\n",
        "print(classification_report(y_prediction, Y_test))"
      ],
      "execution_count": 12,
      "outputs": [
        {
          "output_type": "stream",
          "name": "stdout",
          "text": [
            "[ -8 -14  -3 ... -37 -19  -1]\n",
            "SVC(gamma='auto', kernel='linear')\n",
            "0.9998333333333334\n",
            "              precision    recall  f1-score   support\n",
            "\n",
            "        -398       0.00      0.00      0.00         0\n",
            "        -350       0.00      0.00      0.00         1\n",
            "        -321       1.00      1.00      1.00         1\n",
            "        -315       0.00      0.00      0.00         1\n",
            "        -314       0.00      0.00      0.00         0\n",
            "        -302       1.00      1.00      1.00         1\n",
            "        -301       1.00      1.00      1.00         1\n",
            "        -300       1.00      1.00      1.00         2\n",
            "        -294       1.00      1.00      1.00         1\n",
            "        -288       0.00      0.00      0.00         0\n",
            "        -287       0.00      0.00      0.00         1\n",
            "        -282       0.00      0.00      0.00         1\n",
            "        -281       0.00      0.00      0.00         0\n",
            "        -280       1.00      1.00      1.00         2\n",
            "        -275       1.00      1.00      1.00         1\n",
            "        -268       0.00      0.00      0.00         0\n",
            "        -266       0.00      0.00      0.00         1\n",
            "        -259       1.00      1.00      1.00         1\n",
            "        -253       1.00      1.00      1.00         1\n",
            "        -232       1.00      1.00      1.00         1\n",
            "        -231       1.00      1.00      1.00         1\n",
            "        -225       1.00      1.00      1.00         1\n",
            "        -217       1.00      1.00      1.00         1\n",
            "        -206       0.00      0.00      0.00         1\n",
            "        -205       0.00      0.00      0.00         0\n",
            "        -203       1.00      1.00      1.00         1\n",
            "        -196       1.00      1.00      1.00         1\n",
            "        -183       1.00      1.00      1.00         1\n",
            "        -182       1.00      1.00      1.00         4\n",
            "        -176       1.00      1.00      1.00         2\n",
            "        -174       0.00      0.00      0.00         0\n",
            "        -173       1.00      0.50      0.67         2\n",
            "        -170       1.00      0.67      0.80         3\n",
            "        -169       0.00      0.00      0.00         0\n",
            "        -168       1.00      1.00      1.00         1\n",
            "        -163       1.00      1.00      1.00         1\n",
            "        -162       0.67      1.00      0.80         2\n",
            "        -161       0.00      0.00      0.00         1\n",
            "        -147       1.00      1.00      1.00         2\n",
            "        -142       1.00      1.00      1.00         1\n",
            "        -141       1.00      1.00      1.00         1\n",
            "        -133       1.00      1.00      1.00         1\n",
            "        -127       1.00      1.00      1.00         2\n",
            "        -126       1.00      1.00      1.00         4\n",
            "        -122       0.50      1.00      0.67         1\n",
            "        -120       1.00      0.50      0.67         2\n",
            "        -119       1.00      1.00      1.00         5\n",
            "        -118       1.00      1.00      1.00         2\n",
            "        -117       1.00      1.00      1.00         2\n",
            "        -116       1.00      1.00      1.00         2\n",
            "        -115       1.00      1.00      1.00         2\n",
            "        -114       1.00      1.00      1.00         1\n",
            "        -113       1.00      1.00      1.00         6\n",
            "        -112       1.00      1.00      1.00         8\n",
            "        -111       1.00      1.00      1.00         4\n",
            "        -110       1.00      1.00      1.00         1\n",
            "        -109       1.00      1.00      1.00         2\n",
            "        -108       1.00      1.00      1.00         3\n",
            "        -107       1.00      1.00      1.00         8\n",
            "        -106       1.00      1.00      1.00        10\n",
            "        -105       1.00      1.00      1.00        20\n",
            "        -104       1.00      1.00      1.00        12\n",
            "        -103       1.00      1.00      1.00         8\n",
            "        -102       1.00      1.00      1.00        13\n",
            "        -101       1.00      1.00      1.00         6\n",
            "        -100       1.00      1.00      1.00         9\n",
            "         -99       1.00      1.00      1.00        28\n",
            "         -98       1.00      1.00      1.00        29\n",
            "         -97       1.00      1.00      1.00        14\n",
            "         -96       1.00      1.00      1.00         5\n",
            "         -95       1.00      1.00      1.00        11\n",
            "         -94       1.00      1.00      1.00        15\n",
            "         -93       1.00      1.00      1.00        16\n",
            "         -92       1.00      1.00      1.00        15\n",
            "         -91       1.00      1.00      1.00        39\n",
            "         -90       1.00      1.00      1.00        14\n",
            "         -89       1.00      1.00      1.00        10\n",
            "         -88       1.00      1.00      1.00         7\n",
            "         -87       1.00      1.00      1.00        10\n",
            "         -86       1.00      1.00      1.00        13\n",
            "         -85       1.00      1.00      1.00         9\n",
            "         -84       1.00      1.00      1.00        27\n",
            "         -83       1.00      1.00      1.00        16\n",
            "         -82       1.00      1.00      1.00         8\n",
            "         -81       1.00      1.00      1.00         8\n",
            "         -80       1.00      1.00      1.00         2\n",
            "         -79       1.00      1.00      1.00        16\n",
            "         -78       1.00      1.00      1.00        27\n",
            "         -77       1.00      1.00      1.00        23\n",
            "         -76       1.00      1.00      1.00        19\n",
            "         -75       1.00      1.00      1.00        15\n",
            "         -74       1.00      1.00      1.00         9\n",
            "         -73       1.00      1.00      1.00        15\n",
            "         -72       1.00      1.00      1.00        14\n",
            "         -71       1.00      1.00      1.00        21\n",
            "         -70       1.00      1.00      1.00        42\n",
            "         -69       1.00      1.00      1.00        27\n",
            "         -68       1.00      1.00      1.00        23\n",
            "         -67       1.00      1.00      1.00        20\n",
            "         -66       1.00      1.00      1.00        20\n",
            "         -65       1.00      1.00      1.00        29\n",
            "         -64       1.00      1.00      1.00        35\n",
            "         -63       1.00      1.00      1.00        57\n",
            "         -62       1.00      1.00      1.00        34\n",
            "         -61       1.00      1.00      1.00        47\n",
            "         -60       1.00      1.00      1.00        44\n",
            "         -59       1.00      1.00      1.00        48\n",
            "         -58       1.00      1.00      1.00        43\n",
            "         -57       1.00      1.00      1.00        59\n",
            "         -56       1.00      1.00      1.00       116\n",
            "         -55       1.00      1.00      1.00        60\n",
            "         -54       1.00      1.00      1.00        73\n",
            "         -53       1.00      1.00      1.00        71\n",
            "         -52       1.00      1.00      1.00        57\n",
            "         -51       1.00      1.00      1.00        70\n",
            "         -50       1.00      1.00      1.00        87\n",
            "         -49       1.00      1.00      1.00       163\n",
            "         -48       1.00      1.00      1.00       113\n",
            "         -47       1.00      1.00      1.00        72\n",
            "         -46       1.00      1.00      1.00        95\n",
            "         -45       1.00      1.00      1.00        84\n",
            "         -44       1.00      1.00      1.00       117\n",
            "         -43       1.00      1.00      1.00       168\n",
            "         -42       1.00      1.00      1.00       282\n",
            "         -41       1.00      1.00      1.00       186\n",
            "         -40       1.00      1.00      1.00       173\n",
            "         -39       1.00      1.00      1.00       198\n",
            "         -38       1.00      1.00      1.00       208\n",
            "         -37       1.00      1.00      1.00       227\n",
            "         -36       1.00      1.00      1.00       371\n",
            "         -35       1.00      1.00      1.00       610\n",
            "         -34       1.00      1.00      1.00       493\n",
            "         -33       1.00      1.00      1.00       426\n",
            "         -32       1.00      1.00      1.00       383\n",
            "         -31       1.00      1.00      1.00       511\n",
            "         -30       1.00      1.00      1.00       591\n",
            "         -29       1.00      1.00      1.00       762\n",
            "         -28       1.00      1.00      1.00      1220\n",
            "         -27       1.00      1.00      1.00       718\n",
            "         -26       1.00      1.00      1.00       582\n",
            "         -25       1.00      1.00      1.00       533\n",
            "         -24       1.00      1.00      1.00       599\n",
            "         -23       1.00      1.00      1.00       719\n",
            "         -22       1.00      1.00      1.00       929\n",
            "         -21       1.00      1.00      1.00      1520\n",
            "         -20       1.00      1.00      1.00      1090\n",
            "         -19       1.00      1.00      1.00       771\n",
            "         -18       1.00      1.00      1.00       828\n",
            "         -17       1.00      1.00      1.00       800\n",
            "         -16       1.00      1.00      1.00       967\n",
            "         -15       1.00      1.00      1.00      1336\n",
            "         -14       1.00      1.00      1.00      2372\n",
            "         -13       1.00      1.00      1.00      1352\n",
            "         -12       1.00      1.00      1.00      1097\n",
            "         -11       1.00      1.00      1.00      1102\n",
            "         -10       1.00      1.00      1.00      1189\n",
            "          -9       1.00      1.00      1.00      1409\n",
            "          -8       1.00      1.00      1.00      2142\n",
            "          -7       1.00      1.00      1.00      4295\n",
            "          -6       1.00      1.00      1.00      2937\n",
            "          -5       1.00      1.00      1.00      2677\n",
            "          -4       1.00      1.00      1.00      4470\n",
            "          -3       1.00      1.00      1.00      2767\n",
            "          -2       1.00      1.00      1.00      5515\n",
            "          -1       1.00      1.00      1.00      6136\n",
            "\n",
            "    accuracy                           1.00     60000\n",
            "   macro avg       0.90      0.90      0.90     60000\n",
            "weighted avg       1.00      1.00      1.00     60000\n",
            "\n"
          ]
        },
        {
          "output_type": "stream",
          "name": "stderr",
          "text": [
            "/usr/local/lib/python3.9/dist-packages/sklearn/metrics/_classification.py:1344: UndefinedMetricWarning: Precision and F-score are ill-defined and being set to 0.0 in labels with no predicted samples. Use `zero_division` parameter to control this behavior.\n",
            "  _warn_prf(average, modifier, msg_start, len(result))\n",
            "/usr/local/lib/python3.9/dist-packages/sklearn/metrics/_classification.py:1344: UndefinedMetricWarning: Recall and F-score are ill-defined and being set to 0.0 in labels with no true samples. Use `zero_division` parameter to control this behavior.\n",
            "  _warn_prf(average, modifier, msg_start, len(result))\n",
            "/usr/local/lib/python3.9/dist-packages/sklearn/metrics/_classification.py:1344: UndefinedMetricWarning: Precision and F-score are ill-defined and being set to 0.0 in labels with no predicted samples. Use `zero_division` parameter to control this behavior.\n",
            "  _warn_prf(average, modifier, msg_start, len(result))\n",
            "/usr/local/lib/python3.9/dist-packages/sklearn/metrics/_classification.py:1344: UndefinedMetricWarning: Recall and F-score are ill-defined and being set to 0.0 in labels with no true samples. Use `zero_division` parameter to control this behavior.\n",
            "  _warn_prf(average, modifier, msg_start, len(result))\n",
            "/usr/local/lib/python3.9/dist-packages/sklearn/metrics/_classification.py:1344: UndefinedMetricWarning: Precision and F-score are ill-defined and being set to 0.0 in labels with no predicted samples. Use `zero_division` parameter to control this behavior.\n",
            "  _warn_prf(average, modifier, msg_start, len(result))\n",
            "/usr/local/lib/python3.9/dist-packages/sklearn/metrics/_classification.py:1344: UndefinedMetricWarning: Recall and F-score are ill-defined and being set to 0.0 in labels with no true samples. Use `zero_division` parameter to control this behavior.\n",
            "  _warn_prf(average, modifier, msg_start, len(result))\n"
          ]
        }
      ]
    }
  ]
}